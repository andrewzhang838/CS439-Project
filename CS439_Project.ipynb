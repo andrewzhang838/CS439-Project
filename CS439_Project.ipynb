{
  "nbformat": 4,
  "nbformat_minor": 0,
  "metadata": {
    "colab": {
      "provenance": []
    },
    "kernelspec": {
      "name": "python3",
      "display_name": "Python 3"
    },
    "language_info": {
      "name": "python"
    }
  },
  "cells": [
    {
      "cell_type": "code",
      "execution_count": 1,
      "metadata": {
        "id": "THLAr5-ilqoO"
      },
      "outputs": [],
      "source": [
        "import pandas as pd\n",
        "df = pd.read_csv('kindle_reviews.csv')"
      ]
    },
    {
      "cell_type": "code",
      "source": [
        "df.info()\n",
        "print(\"***\")\n",
        "print(df.sample(5))\n",
        "print(\"***\")\n",
        "df.isnull().sum()"
      ],
      "metadata": {
        "id": "q17HekjAq45L",
        "colab": {
          "base_uri": "https://localhost:8080/",
          "height": 1000
        },
        "outputId": "f102382a-f2b3-4441-b0dd-15c0ba65572e"
      },
      "execution_count": null,
      "outputs": [
        {
          "output_type": "stream",
          "name": "stdout",
          "text": [
            "<class 'pandas.core.frame.DataFrame'>\n",
            "RangeIndex: 982619 entries, 0 to 982618\n",
            "Data columns (total 10 columns):\n",
            " #   Column          Non-Null Count   Dtype \n",
            "---  ------          --------------   ----- \n",
            " 0   Unnamed: 0      982619 non-null  int64 \n",
            " 1   asin            982619 non-null  object\n",
            " 2   helpful         982619 non-null  object\n",
            " 3   overall         982619 non-null  int64 \n",
            " 4   reviewText      982597 non-null  object\n",
            " 5   reviewTime      982619 non-null  object\n",
            " 6   reviewerID      982619 non-null  object\n",
            " 7   reviewerName    978797 non-null  object\n",
            " 8   summary         982500 non-null  object\n",
            " 9   unixReviewTime  982619 non-null  int64 \n",
            "dtypes: int64(3), object(7)\n",
            "memory usage: 75.0+ MB\n",
            "***\n",
            "        Unnamed: 0        asin helpful  overall  \\\n",
            "499822      499822  B00CFOJU3C  [0, 0]        5   \n",
            "875847      875847  B00J9G4X9K  [1, 1]        5   \n",
            "80581        80581  B0056372HA  [0, 0]        5   \n",
            "557956      557956  B00DH7XDKM  [2, 3]        5   \n",
            "703328      703328  B00GAZ25FC  [2, 2]        5   \n",
            "\n",
            "                                               reviewText   reviewTime  \\\n",
            "499822  I have read all of the sole regret books ( lov...  06 23, 2013   \n",
            "875847  Infatuated With Love 3 picked up right book 2 ...   04 5, 2014   \n",
            "80581   Setting this in a historical situation, makes ...  06 20, 2013   \n",
            "557956  This book was a great read and kept my rapt at...  06 23, 2013   \n",
            "703328  A rock and roll fantasy is really what it is! ...  12 21, 2013   \n",
            "\n",
            "            reviewerID    reviewerName              summary  unixReviewTime  \n",
            "499822   AXX6ZBDO4UYK1           Doris             Touch me      1371945600  \n",
            "875847   A4E4TT3XJLV4N             Dee          Good Series      1396656000  \n",
            "80581   A323H7CL7G313K      S L Thomas          Great story      1371686400  \n",
            "557956  A10K5O7U00XW2M   Lori Gallelli  Great alien romance      1371945600  \n",
            "703328  A1BUSUFDAT9B54  Crystal Lanham  Awesome first book!      1387584000  \n",
            "***\n"
          ]
        },
        {
          "output_type": "execute_result",
          "data": {
            "text/plain": [
              "Unnamed: 0           0\n",
              "asin                 0\n",
              "helpful              0\n",
              "overall              0\n",
              "reviewText          22\n",
              "reviewTime           0\n",
              "reviewerID           0\n",
              "reviewerName      3822\n",
              "summary            119\n",
              "unixReviewTime       0\n",
              "dtype: int64"
            ],
            "text/html": [
              "<div>\n",
              "<style scoped>\n",
              "    .dataframe tbody tr th:only-of-type {\n",
              "        vertical-align: middle;\n",
              "    }\n",
              "\n",
              "    .dataframe tbody tr th {\n",
              "        vertical-align: top;\n",
              "    }\n",
              "\n",
              "    .dataframe thead th {\n",
              "        text-align: right;\n",
              "    }\n",
              "</style>\n",
              "<table border=\"1\" class=\"dataframe\">\n",
              "  <thead>\n",
              "    <tr style=\"text-align: right;\">\n",
              "      <th></th>\n",
              "      <th>0</th>\n",
              "    </tr>\n",
              "  </thead>\n",
              "  <tbody>\n",
              "    <tr>\n",
              "      <th>Unnamed: 0</th>\n",
              "      <td>0</td>\n",
              "    </tr>\n",
              "    <tr>\n",
              "      <th>asin</th>\n",
              "      <td>0</td>\n",
              "    </tr>\n",
              "    <tr>\n",
              "      <th>helpful</th>\n",
              "      <td>0</td>\n",
              "    </tr>\n",
              "    <tr>\n",
              "      <th>overall</th>\n",
              "      <td>0</td>\n",
              "    </tr>\n",
              "    <tr>\n",
              "      <th>reviewText</th>\n",
              "      <td>22</td>\n",
              "    </tr>\n",
              "    <tr>\n",
              "      <th>reviewTime</th>\n",
              "      <td>0</td>\n",
              "    </tr>\n",
              "    <tr>\n",
              "      <th>reviewerID</th>\n",
              "      <td>0</td>\n",
              "    </tr>\n",
              "    <tr>\n",
              "      <th>reviewerName</th>\n",
              "      <td>3822</td>\n",
              "    </tr>\n",
              "    <tr>\n",
              "      <th>summary</th>\n",
              "      <td>119</td>\n",
              "    </tr>\n",
              "    <tr>\n",
              "      <th>unixReviewTime</th>\n",
              "      <td>0</td>\n",
              "    </tr>\n",
              "  </tbody>\n",
              "</table>\n",
              "</div><br><label><b>dtype:</b> int64</label>"
            ]
          },
          "metadata": {},
          "execution_count": 2
        }
      ]
    },
    {
      "cell_type": "code",
      "source": [
        "# only keep rows with no missing values in our key columns.\n",
        "df = df.dropna(subset=['reviewText', 'overall', 'helpful'])\n",
        "df = df.drop(columns=['Unnamed: 0']) # drop the 0 column since its just row numbers"
      ],
      "metadata": {
        "id": "dehzEdgLu5th"
      },
      "execution_count": null,
      "outputs": []
    },
    {
      "cell_type": "code",
      "source": [
        "df.info()"
      ],
      "metadata": {
        "colab": {
          "base_uri": "https://localhost:8080/"
        },
        "id": "Gug6gaP1vg8d",
        "outputId": "6c7da97a-74a9-4f4b-d1e9-d966006ec7bc"
      },
      "execution_count": null,
      "outputs": [
        {
          "output_type": "stream",
          "name": "stdout",
          "text": [
            "<class 'pandas.core.frame.DataFrame'>\n",
            "Index: 982597 entries, 0 to 982618\n",
            "Data columns (total 9 columns):\n",
            " #   Column          Non-Null Count   Dtype \n",
            "---  ------          --------------   ----- \n",
            " 0   asin            982597 non-null  object\n",
            " 1   helpful         982597 non-null  object\n",
            " 2   overall         982597 non-null  int64 \n",
            " 3   reviewText      982597 non-null  object\n",
            " 4   reviewTime      982597 non-null  object\n",
            " 5   reviewerID      982597 non-null  object\n",
            " 6   reviewerName    978775 non-null  object\n",
            " 7   summary         982478 non-null  object\n",
            " 8   unixReviewTime  982597 non-null  int64 \n",
            "dtypes: int64(2), object(7)\n",
            "memory usage: 75.0+ MB\n"
          ]
        }
      ]
    },
    {
      "cell_type": "code",
      "source": [
        "# convert the ratings to ratios and drop rows with 0 total votes, since they don't contribute to training\n",
        "import ast\n",
        "\n",
        "# Only apply ast.literal_eval if the value is a string\n",
        "def parse_helpful(value):\n",
        "    if isinstance(value, str):\n",
        "        try:\n",
        "            return ast.literal_eval(value)\n",
        "        except:\n",
        "            return [0, 0]  # fallback for malformed values\n",
        "    return value  # already a list\n",
        "\n",
        "df['helpful'] = df['helpful'].apply(parse_helpful)\n",
        "\n",
        "\n",
        "# Split into helpful and unhelpful votes\n",
        "df['helpful_yes'] = df['helpful'].apply(lambda x: x[0])\n",
        "df['helpful_no'] = df['helpful'].apply(lambda x: x[1])\n",
        "\n",
        "# Total votes = helpful + unhelpful\n",
        "df['total_votes'] = df['helpful_yes'] + df['helpful_no']\n",
        "\n",
        "# Drop rows with <3 total votes\n",
        "df = df[df['total_votes'] > 0]\n",
        "df = df[df['total_votes'] > 1]\n",
        "df = df[df['total_votes'] > 2]\n",
        "\n",
        "# Compute helpfulness ratio\n",
        "df['helpfulness_ratio'] = df['helpful_yes'] / df['total_votes']\n"
      ],
      "metadata": {
        "id": "qO16PRe-wT_3"
      },
      "execution_count": null,
      "outputs": []
    },
    {
      "cell_type": "code",
      "source": [
        "df.info()"
      ],
      "metadata": {
        "colab": {
          "base_uri": "https://localhost:8080/"
        },
        "id": "_4NWf0ntyrRx",
        "outputId": "f107cb02-6dd1-40d4-9f63-19fbb82aa6fb"
      },
      "execution_count": null,
      "outputs": [
        {
          "output_type": "stream",
          "name": "stdout",
          "text": [
            "<class 'pandas.core.frame.DataFrame'>\n",
            "Index: 219207 entries, 1 to 982618\n",
            "Data columns (total 13 columns):\n",
            " #   Column             Non-Null Count   Dtype  \n",
            "---  ------             --------------   -----  \n",
            " 0   asin               219207 non-null  object \n",
            " 1   helpful            219207 non-null  object \n",
            " 2   overall            219207 non-null  int64  \n",
            " 3   reviewText         219207 non-null  object \n",
            " 4   reviewTime         219207 non-null  object \n",
            " 5   reviewerID         219207 non-null  object \n",
            " 6   reviewerName       218745 non-null  object \n",
            " 7   summary            219173 non-null  object \n",
            " 8   unixReviewTime     219207 non-null  int64  \n",
            " 9   helpful_yes        219207 non-null  int64  \n",
            " 10  helpful_no         219207 non-null  int64  \n",
            " 11  total_votes        219207 non-null  int64  \n",
            " 12  helpfulness_ratio  219207 non-null  float64\n",
            "dtypes: float64(1), int64(5), object(7)\n",
            "memory usage: 23.4+ MB\n"
          ]
        }
      ]
    },
    {
      "cell_type": "code",
      "source": [
        "# create a new column that tells us if a review is helpful. Ratio >= .5 is helpful. Can be changed\n",
        "\n",
        "df['is_helpful'] = df['helpfulness_ratio'] >= .5"
      ],
      "metadata": {
        "id": "HWarw5e1wyoa"
      },
      "execution_count": null,
      "outputs": []
    },
    {
      "cell_type": "code",
      "source": [
        "# our 3 features to train off of\n",
        "features = ['reviewText', 'summary', 'overall']\n",
        "target = 'is_helpful'"
      ],
      "metadata": {
        "id": "WmUDn_feCGNK"
      },
      "execution_count": null,
      "outputs": []
    },
    {
      "cell_type": "code",
      "source": [
        "from sklearn.model_selection import train_test_split\n",
        "\n",
        "#our 3 features to train off of\n",
        "X = df[['summary', 'reviewText', 'overall']]\n",
        "y = df['is_helpful']\n",
        "\n",
        "X_train, X_test, y_train, y_test = train_test_split(\n",
        "    X, y, test_size=0.2, random_state=42, stratify=y\n",
        ")\n"
      ],
      "metadata": {
        "id": "W5wcWWZXFMAb"
      },
      "execution_count": null,
      "outputs": []
    },
    {
      "cell_type": "code",
      "source": [
        "# Fill NaNs in the split data (NOT just df)\n",
        "X_train['summary'] = X_train['summary'].fillna('')\n",
        "X_test['summary'] = X_test['summary'].fillna('')\n",
        "X_train['reviewText'] = X_train['reviewText'].fillna('')\n",
        "X_test['reviewText'] = X_test['reviewText'].fillna('')\n",
        "\n",
        "\n",
        "from sklearn.feature_extraction.text import TfidfVectorizer\n",
        "\n",
        "# Initialize vectorizers\n",
        "summary_vectorizer = TfidfVectorizer(max_features=5000, stop_words='english')\n",
        "review_vectorizer = TfidfVectorizer(max_features=10000, stop_words='english')\n",
        "\n",
        "# Fit and transform text data\n",
        "summary_train = summary_vectorizer.fit_transform(X_train['summary'])\n",
        "summary_test = summary_vectorizer.transform(X_test['summary'])\n",
        "\n",
        "review_train = review_vectorizer.fit_transform(X_train['reviewText'])\n",
        "review_test = review_vectorizer.transform(X_test['reviewText'])\n"
      ],
      "metadata": {
        "id": "y3Ui1HaSFyNP"
      },
      "execution_count": null,
      "outputs": []
    },
    {
      "cell_type": "code",
      "source": [
        "from sklearn.preprocessing import StandardScaler\n",
        "import numpy as np\n",
        "\n",
        "scaler = StandardScaler()\n",
        "\n",
        "# Reshape for scaler and convert to sparse matrix later\n",
        "overall_train = scaler.fit_transform(X_train[['overall']])\n",
        "overall_test = scaler.transform(X_test[['overall']])\n"
      ],
      "metadata": {
        "id": "AjjucmLBF2jl"
      },
      "execution_count": null,
      "outputs": []
    },
    {
      "cell_type": "code",
      "source": [
        "from scipy.sparse import hstack\n",
        "\n",
        "# Combine sparse matrices (summary + review + overall)\n",
        "X_train_combined = hstack([summary_train, review_train, overall_train])\n",
        "X_test_combined = hstack([summary_test, review_test, overall_test])\n"
      ],
      "metadata": {
        "id": "ebX42RN9GVeq"
      },
      "execution_count": null,
      "outputs": []
    },
    {
      "cell_type": "markdown",
      "source": [
        "Model training:"
      ],
      "metadata": {
        "id": "zljqnpv7G3Mm"
      }
    },
    {
      "cell_type": "code",
      "source": [
        "df['is_helpful'].value_counts()"
      ],
      "metadata": {
        "colab": {
          "base_uri": "https://localhost:8080/",
          "height": 178
        },
        "id": "IWMqW5W7HVhc",
        "outputId": "4c5f9411-d968-4052-d0c7-c537c6bcd33d"
      },
      "execution_count": null,
      "outputs": [
        {
          "output_type": "execute_result",
          "data": {
            "text/plain": [
              "is_helpful\n",
              "True     112763\n",
              "False    106444\n",
              "Name: count, dtype: int64"
            ],
            "text/html": [
              "<div>\n",
              "<style scoped>\n",
              "    .dataframe tbody tr th:only-of-type {\n",
              "        vertical-align: middle;\n",
              "    }\n",
              "\n",
              "    .dataframe tbody tr th {\n",
              "        vertical-align: top;\n",
              "    }\n",
              "\n",
              "    .dataframe thead th {\n",
              "        text-align: right;\n",
              "    }\n",
              "</style>\n",
              "<table border=\"1\" class=\"dataframe\">\n",
              "  <thead>\n",
              "    <tr style=\"text-align: right;\">\n",
              "      <th></th>\n",
              "      <th>count</th>\n",
              "    </tr>\n",
              "    <tr>\n",
              "      <th>is_helpful</th>\n",
              "      <th></th>\n",
              "    </tr>\n",
              "  </thead>\n",
              "  <tbody>\n",
              "    <tr>\n",
              "      <th>True</th>\n",
              "      <td>112763</td>\n",
              "    </tr>\n",
              "    <tr>\n",
              "      <th>False</th>\n",
              "      <td>106444</td>\n",
              "    </tr>\n",
              "  </tbody>\n",
              "</table>\n",
              "</div><br><label><b>dtype:</b> int64</label>"
            ]
          },
          "metadata": {},
          "execution_count": 13
        }
      ]
    },
    {
      "cell_type": "markdown",
      "source": [
        "Logistic Regression:"
      ],
      "metadata": {
        "id": "CqHd1E_BXFpq"
      }
    },
    {
      "cell_type": "code",
      "source": [
        "# logistic regression ~ 20 sec\n",
        "from sklearn.linear_model import LogisticRegression\n",
        "\n",
        "# Use solver that supports sparse input\n",
        "model = LogisticRegression(solver='liblinear', max_iter=1000)\n",
        "model.fit(X_train_combined, y_train)\n",
        "\n",
        "y_pred = model.predict(X_test_combined)\n",
        "\n",
        "from sklearn.metrics import classification_report, confusion_matrix, accuracy_score\n",
        "\n",
        "print(\"Accuracy:\", accuracy_score(y_test, y_pred))\n",
        "print(\"\\nClassification Report:\\n\", classification_report(y_test, y_pred))\n",
        "print(\"\\nConfusion Matrix:\\n\", confusion_matrix(y_test, y_pred))"
      ],
      "metadata": {
        "colab": {
          "base_uri": "https://localhost:8080/"
        },
        "id": "3B7tzahuHCuF",
        "outputId": "0cd2d07c-10ac-4e4b-f369-a8c3be225a0c"
      },
      "execution_count": null,
      "outputs": [
        {
          "output_type": "stream",
          "name": "stdout",
          "text": [
            "Accuracy: 0.6318142420510013\n",
            "\n",
            "Classification Report:\n",
            "               precision    recall  f1-score   support\n",
            "\n",
            "       False       0.64      0.55      0.59     21289\n",
            "        True       0.63      0.71      0.66     22553\n",
            "\n",
            "    accuracy                           0.63     43842\n",
            "   macro avg       0.63      0.63      0.63     43842\n",
            "weighted avg       0.63      0.63      0.63     43842\n",
            "\n",
            "\n",
            "Confusion Matrix:\n",
            " [[11729  9560]\n",
            " [ 6582 15971]]\n"
          ]
        }
      ]
    },
    {
      "cell_type": "markdown",
      "source": [
        "Additional Models: XGBoost, SVM"
      ],
      "metadata": {
        "id": "Pp1u-HMfXXjc"
      }
    },
    {
      "cell_type": "code",
      "source": [
        "# XGBoost ~ 3 min\n",
        "!pip install xgboost\n",
        "\n",
        "from xgboost import XGBClassifier\n",
        "\n",
        "xgb_model = XGBClassifier(use_label_encoder=False, eval_metric='logloss', n_jobs=-1)\n",
        "xgb_model.fit(X_train_combined, y_train)\n",
        "y_pred_xgb = xgb_model.predict(X_test_combined)\n"
      ],
      "metadata": {
        "colab": {
          "base_uri": "https://localhost:8080/"
        },
        "id": "8WTF84CeXe9N",
        "outputId": "b80c178c-792c-419d-e0cb-e8abd48dea54"
      },
      "execution_count": null,
      "outputs": [
        {
          "output_type": "stream",
          "name": "stdout",
          "text": [
            "Requirement already satisfied: xgboost in /usr/local/lib/python3.11/dist-packages (2.1.4)\n",
            "Requirement already satisfied: numpy in /usr/local/lib/python3.11/dist-packages (from xgboost) (1.26.4)\n",
            "Requirement already satisfied: nvidia-nccl-cu12 in /usr/local/lib/python3.11/dist-packages (from xgboost) (2.21.5)\n",
            "Requirement already satisfied: scipy in /usr/local/lib/python3.11/dist-packages (from xgboost) (1.13.1)\n"
          ]
        },
        {
          "output_type": "stream",
          "name": "stderr",
          "text": [
            "/usr/local/lib/python3.11/dist-packages/xgboost/core.py:158: UserWarning: [03:24:01] WARNING: /workspace/src/learner.cc:740: \n",
            "Parameters: { \"use_label_encoder\" } are not used.\n",
            "\n",
            "  warnings.warn(smsg, UserWarning)\n"
          ]
        }
      ]
    },
    {
      "cell_type": "code",
      "source": [
        "# SVM ~ 1 min\n",
        "from sklearn.svm import LinearSVC\n",
        "\n",
        "svm_model = LinearSVC()\n",
        "svm_model.fit(X_train_combined, y_train)\n",
        "y_pred_svm = svm_model.predict(X_test_combined)\n"
      ],
      "metadata": {
        "id": "VGrlhl0OXlO4"
      },
      "execution_count": null,
      "outputs": []
    },
    {
      "cell_type": "code",
      "source": [
        "def evaluate_model(y_true, y_pred, name=\"Model\"):\n",
        "    print(f\"\\n{name} Performance:\")\n",
        "    print(\"Accuracy:\", accuracy_score(y_true, y_pred))\n",
        "    print(\"Classification Report:\\n\", classification_report(y_true, y_pred))\n",
        "    print(\"Confusion Matrix:\\n\", confusion_matrix(y_true, y_pred))\n"
      ],
      "metadata": {
        "id": "vBh7QQqbXn47"
      },
      "execution_count": null,
      "outputs": []
    },
    {
      "cell_type": "code",
      "source": [
        "# Run all\n",
        "evaluate_model(y_test, y_pred_xgb, \"XGBoost\")\n",
        "evaluate_model(y_test, y_pred_svm, \"SVM\")\n"
      ],
      "metadata": {
        "colab": {
          "base_uri": "https://localhost:8080/"
        },
        "id": "fudgSuzkXqZb",
        "outputId": "503e9d14-6e63-4904-f3e5-af5728ecc757"
      },
      "execution_count": null,
      "outputs": [
        {
          "output_type": "stream",
          "name": "stdout",
          "text": [
            "\n",
            "XGBoost Performance:\n",
            "Accuracy: 0.6305369280598513\n",
            "Classification Report:\n",
            "               precision    recall  f1-score   support\n",
            "\n",
            "       False       0.70      0.42      0.52     21289\n",
            "        True       0.60      0.83      0.70     22553\n",
            "\n",
            "    accuracy                           0.63     43842\n",
            "   macro avg       0.65      0.62      0.61     43842\n",
            "weighted avg       0.65      0.63      0.61     43842\n",
            "\n",
            "Confusion Matrix:\n",
            " [[ 8903 12386]\n",
            " [ 3812 18741]]\n",
            "\n",
            "SVM Performance:\n",
            "Accuracy: 0.6214588750513207\n",
            "Classification Report:\n",
            "               precision    recall  f1-score   support\n",
            "\n",
            "       False       0.62      0.56      0.59     21289\n",
            "        True       0.62      0.68      0.65     22553\n",
            "\n",
            "    accuracy                           0.62     43842\n",
            "   macro avg       0.62      0.62      0.62     43842\n",
            "weighted avg       0.62      0.62      0.62     43842\n",
            "\n",
            "Confusion Matrix:\n",
            " [[11914  9375]\n",
            " [ 7221 15332]]\n"
          ]
        }
      ]
    },
    {
      "cell_type": "markdown",
      "source": [
        "Trying to improve XGBoost accuracy:"
      ],
      "metadata": {
        "id": "m4ysi-3vNopN"
      }
    },
    {
      "cell_type": "code",
      "source": [
        "# XG boost tuned ~ 6 min\n",
        "xgb_model = XGBClassifier(\n",
        "    use_label_encoder=False,\n",
        "    eval_metric='logloss',\n",
        "    learning_rate=0.1,\n",
        "    max_depth=6,\n",
        "    n_estimators=200,\n",
        "    subsample=0.8,\n",
        "    colsample_bytree=0.8,\n",
        "    n_jobs=-1\n",
        ")\n",
        "\n",
        "xgb_model.fit(X_train_combined, y_train)\n",
        "y_pred = xgb_model.predict(X_test_combined)\n",
        "evaluate_model(y_test, y_pred, \"Tuned XGBoost\")"
      ],
      "metadata": {
        "colab": {
          "base_uri": "https://localhost:8080/"
        },
        "id": "2RWHJVigNsX8",
        "outputId": "38ada6fa-9bf9-4827-f32c-74bacb209b34"
      },
      "execution_count": null,
      "outputs": [
        {
          "output_type": "stream",
          "name": "stderr",
          "text": [
            "/usr/local/lib/python3.11/dist-packages/xgboost/core.py:158: UserWarning: [03:31:58] WARNING: /workspace/src/learner.cc:740: \n",
            "Parameters: { \"use_label_encoder\" } are not used.\n",
            "\n",
            "  warnings.warn(smsg, UserWarning)\n"
          ]
        },
        {
          "output_type": "stream",
          "name": "stdout",
          "text": [
            "\n",
            "Tuned XGBoost Performance:\n",
            "Accuracy: 0.6345285342821951\n",
            "Classification Report:\n",
            "               precision    recall  f1-score   support\n",
            "\n",
            "       False       0.72      0.40      0.51     21289\n",
            "        True       0.60      0.86      0.71     22553\n",
            "\n",
            "    accuracy                           0.63     43842\n",
            "   macro avg       0.66      0.63      0.61     43842\n",
            "weighted avg       0.66      0.63      0.61     43842\n",
            "\n",
            "Confusion Matrix:\n",
            " [[ 8507 12782]\n",
            " [ 3241 19312]]\n"
          ]
        }
      ]
    },
    {
      "cell_type": "markdown",
      "source": [
        "Visualizing Our results"
      ],
      "metadata": {
        "id": "Yue6mmc85SCX"
      }
    },
    {
      "cell_type": "code",
      "source": [
        "import matplotlib.pyplot as plt\n",
        "import seaborn as sns\n",
        "from sklearn.metrics import confusion_matrix\n",
        "\n",
        "def plot_confusion(y_true, y_pred, title=\"Confusion Matrix\"):\n",
        "    cm = confusion_matrix(y_true, y_pred)\n",
        "    labels = ['Not Helpful', 'Helpful']\n",
        "\n",
        "    plt.figure(figsize=(6, 5))\n",
        "    sns.heatmap(cm, annot=True, fmt='d', cmap='Blues',\n",
        "                xticklabels=labels, yticklabels=labels)\n",
        "    plt.xlabel('Predicted')\n",
        "    plt.ylabel('Actual')\n",
        "    plt.title(title)\n",
        "    plt.show()\n"
      ],
      "metadata": {
        "id": "xBKoONjU5WoU"
      },
      "execution_count": null,
      "outputs": []
    },
    {
      "cell_type": "code",
      "source": [
        "# logistic regression\n",
        "plot_confusion(y_test, y_pred, \"Logistic Regression\")"
      ],
      "metadata": {
        "colab": {
          "base_uri": "https://localhost:8080/",
          "height": 488
        },
        "id": "LGw0qB1kJZ74",
        "outputId": "69607b6d-1373-4ca0-e29a-33322a163e4c"
      },
      "execution_count": null,
      "outputs": [
        {
          "output_type": "display_data",
          "data": {
            "text/plain": [
              "<Figure size 600x500 with 2 Axes>"
            ],
            "image/png": "[encoded data removed]"
          },
          "metadata": {}
        }
      ]
    },
    {
      "cell_type": "code",
      "source": [
        "# XG boost\n",
        "plot_confusion(y_test, y_pred_xgb, \"XGBoost\")"
      ],
      "metadata": {
        "colab": {
          "base_uri": "https://localhost:8080/",
          "height": 488
        },
        "id": "ZXkzgeqyJs3v",
        "outputId": "85118d36-5e3c-433f-d884-d649a34b2549"
      },
      "execution_count": null,
      "outputs": [
        {
          "output_type": "display_data",
          "data": {
            "text/plain": [
              "<Figure size 600x500 with 2 Axes>"
            ],
            "image/png": "[encoded data removed]"
          },
          "metadata": {}
        }
      ]
    },
    {
      "cell_type": "code",
      "source": [
        "# SVM\n",
        "plot_confusion(y_test, y_pred_svm, \"SVM\")"
      ],
      "metadata": {
        "colab": {
          "base_uri": "https://localhost:8080/",
          "height": 488
        },
        "id": "RiKeSh1MJ9rt",
        "outputId": "1e7c3b11-efc0-45ab-8f4a-26455f44969a"
      },
      "execution_count": null,
      "outputs": [
        {
          "output_type": "display_data",
          "data": {
            "text/plain": [
              "<Figure size 600x500 with 2 Axes>"
            ],
            "image/png": "[encoded data removed]"
          },
          "metadata": {}
        }
      ]
    },
    {
      "cell_type": "code",
      "source": [],
      "metadata": {
        "id": "gtF_vocnKB1D"
      },
      "execution_count": null,
      "outputs": []
    }
  ]
}